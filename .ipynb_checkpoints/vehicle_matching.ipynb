{
 "cells": [
  {
   "cell_type": "markdown",
   "id": "9344ed1b",
   "metadata": {},
   "source": [
    "### importing libraries for  image processing and text extraction "
   ]
  },
  {
   "cell_type": "code",
   "execution_count": 5,
   "id": "3d6ee69c",
   "metadata": {},
   "outputs": [],
   "source": [
    "import os\n",
    "import cv2\n",
    "import pytesseract\n",
    "import pandas as pd"
   ]
  },
  {
   "cell_type": "markdown",
   "id": "22f6b64a",
   "metadata": {},
   "source": [
    "###  defining a variable dataset_dir that stores the path to a directory on local file system"
   ]
  },
  {
   "cell_type": "code",
   "execution_count": 6,
   "id": "e6810685",
   "metadata": {},
   "outputs": [],
   "source": [
    "dataset_dir = r'C:\\Users\\Public\\The_Visionaries_PS-13\\stanford_dataset'"
   ]
  },
  {
   "cell_type": "markdown",
   "id": "ef3e0f8d",
   "metadata": {},
   "source": [
    "### setting the path to the Tesseract executable to use it for OCR tasks"
   ]
  },
  {
   "cell_type": "code",
   "execution_count": 7,
   "id": "340f3cc7",
   "metadata": {},
   "outputs": [],
   "source": [
    "pytesseract.pytesseract.tesseract_cmd = r'C:\\Program Files\\Tesseract-OCR\\tesseract.exe'"
   ]
  },
  {
   "cell_type": "markdown",
   "id": "13672e23",
   "metadata": {},
   "source": [
    "###  using Pandas to read a CSV file named approved_vehicles.csv"
   ]
  },
  {
   "cell_type": "code",
   "execution_count": 8,
   "id": "3f3faec0",
   "metadata": {},
   "outputs": [],
   "source": [
    "approved_vehicles = pd.read_csv('C:\\\\Users\\\\Public\\\\The_Visionaries_PS-13\\\\stanford_dataset\\\\approved_vehicles.csv')"
   ]
  },
  {
   "cell_type": "markdown",
   "id": "c8a62c27",
   "metadata": {},
   "source": [
    "### defining function to performs the task of recognizing a license plate number from an input image using OpenCV for image processing and Pytesseract for optical character recognition (OCR)"
   ]
  },
  {
   "cell_type": "code",
   "execution_count": 9,
   "id": "9144a1d5",
   "metadata": {},
   "outputs": [],
   "source": [
    "def recognize_license_plate(image):\n",
    "    # Convert the image to grayscale\n",
    "    gray = cv2.cvtColor(image, cv2.COLOR_BGR2GRAY)\n",
    "\n",
    "    # Apply thresholding\n",
    "    _, thresh = cv2.threshold(gray, 150, 255, cv2.THRESH_BINARY)\n",
    "\n",
    "    # Perform OCR using Tesseract\n",
    "    custom_config = r'--oem 3 --psm 6'\n",
    "    try:\n",
    "        text = pytesseract.image_to_string(thresh, config=custom_config)\n",
    "        license_plate = ''.join(e for e in text if e.isalnum()).upper()\n",
    "    except pytesseract.TesseractNotFoundError as e:\n",
    "        print(f\"Error: {e}. Make sure Tesseract OCR is installed and configured correctly.\")\n",
    "        license_plate = None\n",
    "\n",
    "    return license_plate"
   ]
  },
  {
   "cell_type": "markdown",
   "id": "2f59eace",
   "metadata": {},
   "source": [
    "### defining a function to match a recognized license plate against a list of approved vehicles stored in a Pandas DataFrame"
   ]
  },
  {
   "cell_type": "code",
   "execution_count": 10,
   "id": "9520f1e0",
   "metadata": {},
   "outputs": [],
   "source": [
    "def match_license_plate(license_plate, approved_vehicles):\n",
    "    if license_plate and license_plate in approved_vehicles['license_plate'].values:\n",
    "        match = approved_vehicles[approved_vehicles['license_plate'] == license_plate]\n",
    "        return match.iloc[0]['owner_name'], True\n",
    "    else:\n",
    "        return None, False\n"
   ]
  },
  {
   "cell_type": "markdown",
   "id": "82581093",
   "metadata": {},
   "source": [
    "### specifying the image num for processing"
   ]
  },
  {
   "cell_type": "code",
   "execution_count": 11,
   "id": "837038f5",
   "metadata": {},
   "outputs": [
    {
     "name": "stdout",
     "output_type": "stream",
     "text": [
      "Attempting to load image from: C:\\Users\\Public\\The_Visionaries_PS-13\\stanford_dataset\\cars_train\\00001.jpg\n"
     ]
    }
   ],
   "source": [
    "image_number = '00001'  # Replace with the actual image number you want to process\n",
    "sample_image_path = os.path.join(dataset_dir, 'cars_train', f'{image_number}.jpg')\n",
    "\n",
    "print(f\"Attempting to load image from: {sample_image_path}\")"
   ]
  },
  {
   "cell_type": "markdown",
   "id": "ab004d8d",
   "metadata": {},
   "source": [
    "###  processing an image file, recognizing a license plate from it, and matching it against a list of approved vehicles"
   ]
  },
  {
   "cell_type": "code",
   "execution_count": 12,
   "id": "1d36e578",
   "metadata": {},
   "outputs": [
    {
     "name": "stdout",
     "output_type": "stream",
     "text": [
      "Recognized License Plate: LE\n",
      "Vehicle not approved.\n"
     ]
    }
   ],
   "source": [
    "if os.path.exists(sample_image_path):\n",
    "    image = cv2.imread(sample_image_path)\n",
    "\n",
    "    # Preprocess and recognize license plate\n",
    "    license_plate = recognize_license_plate(image)\n",
    "    if license_plate:\n",
    "        print(f\"Recognized License Plate: {license_plate}\")\n",
    "\n",
    "        # Match the recognized license plate\n",
    "        owner_name, is_approved = match_license_plate(license_plate, approved_vehicles)\n",
    "        if is_approved:\n",
    "            print(f\"Vehicle approved. Owner: {owner_name}\")\n",
    "        else:\n",
    "            print(\"Vehicle not approved.\")\n",
    "    else:\n",
    "        print(\"License plate recognition failed.\")\n",
    "else:\n",
    "    print(f\"Error: File '{sample_image_path}' not found.\")\n",
    "    print(f\"Current working directory: {os.getcwd()}\")"
   ]
  },
  {
   "cell_type": "code",
   "execution_count": null,
   "id": "d8187ee6",
   "metadata": {},
   "outputs": [],
   "source": []
  }
 ],
 "metadata": {
  "kernelspec": {
   "display_name": "Python 3 (ipykernel)",
   "language": "python",
   "name": "python3"
  },
  "language_info": {
   "codemirror_mode": {
    "name": "ipython",
    "version": 3
   },
   "file_extension": ".py",
   "mimetype": "text/x-python",
   "name": "python",
   "nbconvert_exporter": "python",
   "pygments_lexer": "ipython3",
   "version": "3.9.12"
  }
 },
 "nbformat": 4,
 "nbformat_minor": 5
}
