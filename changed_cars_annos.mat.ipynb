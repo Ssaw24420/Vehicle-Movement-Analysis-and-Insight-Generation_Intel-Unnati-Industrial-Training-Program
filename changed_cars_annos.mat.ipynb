{
 "cells": [
  {
   "cell_type": "markdown",
   "id": "2fdd0b43",
   "metadata": {},
   "source": [
    "### Importing necessary modules to work with .mat files for reading and storing"
   ]
  },
  {
   "cell_type": "code",
   "execution_count": 1,
   "id": "6f4d4ead",
   "metadata": {
    "scrolled": true
   },
   "outputs": [
    {
     "name": "stderr",
     "output_type": "stream",
     "text": [
      "C:\\ProgramData\\Anaconda3\\lib\\site-packages\\scipy\\__init__.py:146: UserWarning: A NumPy version >=1.16.5 and <1.23.0 is required for this version of SciPy (detected version 1.26.4\n",
      "  warnings.warn(f\"A NumPy version >={np_minversion} and <{np_maxversion}\"\n"
     ]
    }
   ],
   "source": [
    "import scipy.io\n",
    "import os"
   ]
  },
  {
   "cell_type": "markdown",
   "id": "69342c51",
   "metadata": {},
   "source": [
    "### loading cars_annos.mat file"
   ]
  },
  {
   "cell_type": "code",
   "execution_count": 2,
   "id": "c257d8ba",
   "metadata": {},
   "outputs": [],
   "source": [
    "mat_file_path = 'C:\\\\Users\\\\Public\\\\The_Visionaries_PS-13\\\\stanford_dataset\\\\devkit\\\\cars_annos.mat'\n",
    "annotations = scipy.io.loadmat(mat_file_path)"
   ]
  },
  {
   "cell_type": "markdown",
   "id": "ada1fd9d",
   "metadata": {},
   "source": [
    "### updating the filenames in cars_annos.mat file to have consistent leading zeros in annotations and dataset"
   ]
  },
  {
   "cell_type": "code",
   "execution_count": 3,
   "id": "98f8928c",
   "metadata": {},
   "outputs": [],
   "source": [
    "for i, anno in enumerate(annotations['annotations'][0]):\n",
    "    # Extract the original filename\n",
    "    original_filename = anno[0][0]\n",
    "    \n",
    "    # Extract the image number and format it with leading zeros\n",
    "    image_number = int(original_filename.split('/')[-1].split('.')[0])\n",
    "    new_filename = f'{image_number:05d}.jpg'\n",
    "    \n",
    "    # Update the filename in the annotations\n",
    "    annotations['annotations'][0][i][0][0] = new_filename"
   ]
  },
  {
   "cell_type": "markdown",
   "id": "1730f779",
   "metadata": {},
   "source": [
    "### saving the updated cars_annos.mat file"
   ]
  },
  {
   "cell_type": "code",
   "execution_count": 4,
   "id": "2d07ee7a",
   "metadata": {},
   "outputs": [],
   "source": [
    "scipy.io.savemat('C:\\\\Users\\\\Public\\\\The_Visionaries_PS-13\\\\stanford_dataset\\\\devkit\\\\cars_annos.mat', annotations)"
   ]
  },
  {
   "cell_type": "code",
   "execution_count": null,
   "id": "46ccfaf1",
   "metadata": {},
   "outputs": [],
   "source": []
  }
 ],
 "metadata": {
  "kernelspec": {
   "display_name": "Python 3 (ipykernel)",
   "language": "python",
   "name": "python3"
  },
  "language_info": {
   "codemirror_mode": {
    "name": "ipython",
    "version": 3
   },
   "file_extension": ".py",
   "mimetype": "text/x-python",
   "name": "python",
   "nbconvert_exporter": "python",
   "pygments_lexer": "ipython3",
   "version": "3.9.12"
  }
 },
 "nbformat": 4,
 "nbformat_minor": 5
}
