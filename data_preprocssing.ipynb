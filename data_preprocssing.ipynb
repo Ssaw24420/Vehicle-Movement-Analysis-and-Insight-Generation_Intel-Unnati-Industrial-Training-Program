{
 "cells": [
  {
   "cell_type": "markdown",
   "id": "e33bb431",
   "metadata": {},
   "source": [
    "### importing libraries to work with images and annotations"
   ]
  },
  {
   "cell_type": "code",
   "execution_count": 1,
   "id": "d061a226",
   "metadata": {},
   "outputs": [
    {
     "name": "stderr",
     "output_type": "stream",
     "text": [
      "C:\\ProgramData\\Anaconda3\\lib\\site-packages\\scipy\\__init__.py:146: UserWarning: A NumPy version >=1.16.5 and <1.23.0 is required for this version of SciPy (detected version 1.26.4\n",
      "  warnings.warn(f\"A NumPy version >={np_minversion} and <{np_maxversion}\"\n"
     ]
    }
   ],
   "source": [
    "import os\n",
    "import cv2\n",
    "import numpy as np\n",
    "import pandas as pd\n",
    "import scipy.io"
   ]
  },
  {
   "cell_type": "markdown",
   "id": "b0f58885",
   "metadata": {},
   "source": [
    "### specifying the root directory of dataset"
   ]
  },
  {
   "cell_type": "code",
   "execution_count": 2,
   "id": "800b635d",
   "metadata": {},
   "outputs": [],
   "source": [
    "dataset_dir = 'C:\\\\Users\\\\Public\\\\The_Visionaries_PS-13\\\\stanford_dataset'"
   ]
  },
  {
   "cell_type": "markdown",
   "id": "1542faa0",
   "metadata": {},
   "source": [
    "### creating the annotations_path variable to the updated_cars_annos.mat file, which contains the annotations for your dataset to load the annotations"
   ]
  },
  {
   "cell_type": "code",
   "execution_count": 4,
   "id": "fd0de19e",
   "metadata": {},
   "outputs": [],
   "source": [
    "annotations_path = os.path.join(dataset_dir, 'devkit', 'updated_cars_annos.mat')"
   ]
  },
  {
   "cell_type": "markdown",
   "id": "74662fc3",
   "metadata": {},
   "source": [
    "### loading the annotations"
   ]
  },
  {
   "cell_type": "code",
   "execution_count": 5,
   "id": "c1498829",
   "metadata": {},
   "outputs": [],
   "source": [
    "annotations = scipy.io.loadmat(annotations_path)\n",
    "annotations = annotations['annotations']"
   ]
  },
  {
   "cell_type": "markdown",
   "id": "aa91edd2",
   "metadata": {},
   "source": [
    "### Extracting the annotations"
   ]
  },
  {
   "cell_type": "code",
   "execution_count": 6,
   "id": "6ab90019",
   "metadata": {},
   "outputs": [],
   "source": [
    "file_names = [annotations[0, i][5][0] for i in range(annotations.shape[1])]\n",
    "file_names = [name[0] for name in file_names]  # Ensure file_names are strings\n",
    "bboxes = [(annotations[0, i][0][0][0], annotations[0, i][1][0][0], annotations[0, i][2][0][0], annotations[0, i][3][0][0]) for i in range(annotations.shape[1])]\n",
    "class_ids = [annotations[0, i][4][0][0] for i in range(annotations.shape[1])]"
   ]
  },
  {
   "cell_type": "markdown",
   "id": "8316fe13",
   "metadata": {},
   "source": [
    "### creating  a dataframe"
   ]
  },
  {
   "cell_type": "code",
   "execution_count": 7,
   "id": "a5914cf2",
   "metadata": {},
   "outputs": [],
   "source": [
    "data = pd.DataFrame({\n",
    "    'file_name': file_names,\n",
    "    'bbox': bboxes,\n",
    "    'class_id': class_ids\n",
    "})\n"
   ]
  },
  {
   "cell_type": "markdown",
   "id": "a335e772",
   "metadata": {},
   "source": [
    "### defining function to preprocess images"
   ]
  },
  {
   "cell_type": "code",
   "execution_count": 8,
   "id": "77744d24",
   "metadata": {},
   "outputs": [],
   "source": [
    "def preprocess_images(data, dataset_dir, target_size=(224, 224), gray_scale=False):\n",
    "    processed_images = []\n",
    "    processed_labels = []\n",
    "\n",
    "    for index, row in data.iterrows():\n",
    "        img_path = os.path.join(dataset_dir, 'cars_train', row['file_name'])\n",
    "        img = cv2.imread(img_path)\n",
    "        if img is None:\n",
    "            continue  # Handle missing images\n",
    "\n",
    "        x1, y1, x2, y2 = row['bbox']\n",
    "        cropped_img = img[y1:y2, x1:x2]\n",
    "\n",
    "        # Resize image\n",
    "        resized_img = cv2"
   ]
  },
  {
   "cell_type": "code",
   "execution_count": null,
   "id": "e0fb7641",
   "metadata": {},
   "outputs": [],
   "source": []
  }
 ],
 "metadata": {
  "kernelspec": {
   "display_name": "Python 3 (ipykernel)",
   "language": "python",
   "name": "python3"
  },
  "language_info": {
   "codemirror_mode": {
    "name": "ipython",
    "version": 3
   },
   "file_extension": ".py",
   "mimetype": "text/x-python",
   "name": "python",
   "nbconvert_exporter": "python",
   "pygments_lexer": "ipython3",
   "version": "3.9.12"
  }
 },
 "nbformat": 4,
 "nbformat_minor": 5
}
